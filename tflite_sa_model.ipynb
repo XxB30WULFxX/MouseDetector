{
 "cells": [
  {
   "cell_type": "code",
   "execution_count": 2,
   "metadata": {},
   "outputs": [],
   "source": [
    "import numpy as np"
   ]
  },
  {
   "cell_type": "code",
   "execution_count": 3,
   "metadata": {},
   "outputs": [],
   "source": [
    "x = np.load(\"TestSWModel/a11.npy\", allow_pickle=True)"
   ]
  },
  {
   "cell_type": "code",
   "execution_count": 4,
   "metadata": {},
   "outputs": [],
   "source": [
    "data = dict(x.item(0))"
   ]
  },
  {
   "cell_type": "code",
   "execution_count": 5,
   "metadata": {},
   "outputs": [
    {
     "data": {
      "text/plain": [
       "9791035"
      ]
     },
     "execution_count": 5,
     "metadata": {},
     "output_type": "execute_result"
    }
   ],
   "source": [
    "data['diffs'][0][1]"
   ]
  },
  {
   "cell_type": "code",
   "execution_count": null,
   "metadata": {},
   "outputs": [],
   "source": [
    "plt.imshow(out"
   ]
  },
  {
   "cell_type": "code",
   "execution_count": 6,
   "metadata": {},
   "outputs": [
    {
     "name": "stderr",
     "output_type": "stream",
     "text": [
      "2023-09-07 14:00:52.559732: I tensorflow/core/platform/cpu_feature_guard.cc:193] This TensorFlow binary is optimized with oneAPI Deep Neural Network Library (oneDNN) to use the following CPU instructions in performance-critical operations:  SSE4.1 SSE4.2\n",
      "To enable them in other operations, rebuild TensorFlow with the appropriate compiler flags.\n"
     ]
    }
   ],
   "source": [
    "import tensorflow as tf"
   ]
  },
  {
   "cell_type": "code",
   "execution_count": 7,
   "metadata": {},
   "outputs": [],
   "source": [
    "interpreter = tf.lite.Interpreter(model_path=\"sa_model.tflite\")"
   ]
  },
  {
   "cell_type": "code",
   "execution_count": 8,
   "metadata": {},
   "outputs": [],
   "source": [
    "interpreter.allocate_tensors()"
   ]
  },
  {
   "cell_type": "code",
   "execution_count": 9,
   "metadata": {},
   "outputs": [],
   "source": [
    "input_details = interpreter.get_input_details()\n",
    "output_details = interpreter.get_output_details()"
   ]
  },
  {
   "cell_type": "code",
   "execution_count": 10,
   "metadata": {},
   "outputs": [
    {
     "data": {
      "text/plain": [
       "[{'name': 'serving_default_input_1:0',\n",
       "  'index': 0,\n",
       "  'shape': array([  1, 250, 250,   3], dtype=int32),\n",
       "  'shape_signature': array([ -1, 250, 250,   3], dtype=int32),\n",
       "  'dtype': numpy.float32,\n",
       "  'quantization': (0.0, 0),\n",
       "  'quantization_parameters': {'scales': array([], dtype=float32),\n",
       "   'zero_points': array([], dtype=int32),\n",
       "   'quantized_dimension': 0},\n",
       "  'sparsity_parameters': {}},\n",
       " {'name': 'serving_default_input_6:0',\n",
       "  'index': 1,\n",
       "  'shape': array([  1, 250, 250,   3], dtype=int32),\n",
       "  'shape_signature': array([ -1, 250, 250,   3], dtype=int32),\n",
       "  'dtype': numpy.float32,\n",
       "  'quantization': (0.0, 0),\n",
       "  'quantization_parameters': {'scales': array([], dtype=float32),\n",
       "   'zero_points': array([], dtype=int32),\n",
       "   'quantized_dimension': 0},\n",
       "  'sparsity_parameters': {}},\n",
       " {'name': 'serving_default_input_4:0',\n",
       "  'index': 2,\n",
       "  'shape': array([  1, 250, 250,   3], dtype=int32),\n",
       "  'shape_signature': array([ -1, 250, 250,   3], dtype=int32),\n",
       "  'dtype': numpy.float32,\n",
       "  'quantization': (0.0, 0),\n",
       "  'quantization_parameters': {'scales': array([], dtype=float32),\n",
       "   'zero_points': array([], dtype=int32),\n",
       "   'quantized_dimension': 0},\n",
       "  'sparsity_parameters': {}},\n",
       " {'name': 'serving_default_input_8:0',\n",
       "  'index': 3,\n",
       "  'shape': array([1, 1], dtype=int32),\n",
       "  'shape_signature': array([-1,  1], dtype=int32),\n",
       "  'dtype': numpy.float32,\n",
       "  'quantization': (0.0, 0),\n",
       "  'quantization_parameters': {'scales': array([], dtype=float32),\n",
       "   'zero_points': array([], dtype=int32),\n",
       "   'quantized_dimension': 0},\n",
       "  'sparsity_parameters': {}},\n",
       " {'name': 'serving_default_input_7:0',\n",
       "  'index': 4,\n",
       "  'shape': array([1, 1], dtype=int32),\n",
       "  'shape_signature': array([-1,  1], dtype=int32),\n",
       "  'dtype': numpy.float32,\n",
       "  'quantization': (0.0, 0),\n",
       "  'quantization_parameters': {'scales': array([], dtype=float32),\n",
       "   'zero_points': array([], dtype=int32),\n",
       "   'quantized_dimension': 0},\n",
       "  'sparsity_parameters': {}},\n",
       " {'name': 'serving_default_input_3:0',\n",
       "  'index': 5,\n",
       "  'shape': array([  1, 250, 250,   3], dtype=int32),\n",
       "  'shape_signature': array([ -1, 250, 250,   3], dtype=int32),\n",
       "  'dtype': numpy.float32,\n",
       "  'quantization': (0.0, 0),\n",
       "  'quantization_parameters': {'scales': array([], dtype=float32),\n",
       "   'zero_points': array([], dtype=int32),\n",
       "   'quantized_dimension': 0},\n",
       "  'sparsity_parameters': {}},\n",
       " {'name': 'serving_default_input_2:0',\n",
       "  'index': 6,\n",
       "  'shape': array([  1, 250, 250,   3], dtype=int32),\n",
       "  'shape_signature': array([ -1, 250, 250,   3], dtype=int32),\n",
       "  'dtype': numpy.float32,\n",
       "  'quantization': (0.0, 0),\n",
       "  'quantization_parameters': {'scales': array([], dtype=float32),\n",
       "   'zero_points': array([], dtype=int32),\n",
       "   'quantized_dimension': 0},\n",
       "  'sparsity_parameters': {}},\n",
       " {'name': 'serving_default_input_5:0',\n",
       "  'index': 7,\n",
       "  'shape': array([  1, 250, 250,   3], dtype=int32),\n",
       "  'shape_signature': array([ -1, 250, 250,   3], dtype=int32),\n",
       "  'dtype': numpy.float32,\n",
       "  'quantization': (0.0, 0),\n",
       "  'quantization_parameters': {'scales': array([], dtype=float32),\n",
       "   'zero_points': array([], dtype=int32),\n",
       "   'quantized_dimension': 0},\n",
       "  'sparsity_parameters': {}}]"
      ]
     },
     "execution_count": 10,
     "metadata": {},
     "output_type": "execute_result"
    }
   ],
   "source": [
    "input_details"
   ]
  },
  {
   "cell_type": "code",
   "execution_count": 12,
   "metadata": {},
   "outputs": [
    {
     "data": {
      "text/plain": [
       "[{'name': 'StatefulPartitionedCall:0',\n",
       "  'index': 225,\n",
       "  'shape': array([1, 1], dtype=int32),\n",
       "  'shape_signature': array([-1,  1], dtype=int32),\n",
       "  'dtype': numpy.float32,\n",
       "  'quantization': (0.0, 0),\n",
       "  'quantization_parameters': {'scales': array([], dtype=float32),\n",
       "   'zero_points': array([], dtype=int32),\n",
       "   'quantized_dimension': 0},\n",
       "  'sparsity_parameters': {}}]"
      ]
     },
     "execution_count": 12,
     "metadata": {},
     "output_type": "execute_result"
    }
   ],
   "source": [
    "output_details"
   ]
  },
  {
   "cell_type": "code",
   "execution_count": 10,
   "metadata": {},
   "outputs": [],
   "source": [
    "_, input_height, input_width, _ = interpreter.get_input_details()[0]['shape']"
   ]
  },
  {
   "cell_type": "code",
   "execution_count": 11,
   "metadata": {},
   "outputs": [
    {
     "data": {
      "text/plain": [
       "250"
      ]
     },
     "execution_count": 11,
     "metadata": {},
     "output_type": "execute_result"
    }
   ],
   "source": [
    "input_width"
   ]
  },
  {
   "cell_type": "code",
   "execution_count": 13,
   "metadata": {},
   "outputs": [],
   "source": [
    "class SAanalysis:\n",
    "    def __init__(self, diff_len, centers_len, frames_len):\n",
    "        self.diffs_len = diff_len\n",
    "        self.centers_len = centers_len\n",
    "        self.frames_len = frames_len\n",
    "        self.diffs = []\n",
    "        self.centers = []\n",
    "        self.frames = []\n",
    "\n",
    "    def diffAppend(self, value):\n",
    "        if len(self.diffs) < self.diffs_len:\n",
    "            self.diffs.append(value)\n",
    "        elif len(self.diffs) == self.diffs_len:\n",
    "            self.diffs.pop(0)\n",
    "            self.diffs.append(value)\n",
    "\n",
    "    def centerAppend(self, value):\n",
    "        if len(self.centers) < self.centers_len:\n",
    "            self.centers.append(value)\n",
    "        elif len(self.centers) == self.centers_len:\n",
    "            self.centers.pop(0)\n",
    "            self.centers.append(value)\n",
    "\n",
    "    def framesAppend(self, value):\n",
    "        if len(self.frames) < self.frames_len:\n",
    "            self.frames.append(value)\n",
    "        elif len(self.frames) == self.frames_len:\n",
    "            self.frames.pop(0)\n",
    "            self.frames.append(value)\n",
    "\n",
    "    def inference(self):\n",
    "        diffs_avg = np.average(self.diffs)\n",
    "\n",
    "        n_center = []\n",
    "        for i,k in zip(self.centers[0::], self.centers[1::]):\n",
    "            d = np.linalg.norm(np.array(i) - np.array(k))\n",
    "            n_center.append(d)\n",
    "            \n",
    "\n",
    "        centers_avg = np.average(n_center)    \n",
    "\n",
    "        t_diffs = tf.convert_to_tensor([diffs_avg], dtype=tf.float32)\n",
    "        t_centers = tf.convert_to_tensor([centers_avg], dtype=tf.float32)\n",
    "\n",
    "        t_frames = [tf.image.per_image_standardization(tf.image.resize(tf.convert_to_tensor(frame, dtype=tf.float32), (input_height, input_width))) for frame in self.frames]\n",
    "\n",
    "        d = {'frames':[t_frames[0][tf.newaxis, ...],t_frames[1][tf.newaxis, ...],t_frames[2][tf.newaxis, ...],t_frames[3][tf.newaxis, ...],t_frames[4][tf.newaxis, ...],t_frames[5][tf.newaxis, ...]], 'diffs': t_diffs[tf.newaxis, ...], 'centers' :t_centers[tf.newaxis, ...]}\n",
    "        return dict(d)"
   ]
  },
  {
   "cell_type": "code",
   "execution_count": 14,
   "metadata": {},
   "outputs": [],
   "source": [
    "from matplotlib import pyplot as plt"
   ]
  },
  {
   "cell_type": "code",
   "execution_count": 39,
   "metadata": {},
   "outputs": [
    {
     "data": {
      "text/plain": [
       "<matplotlib.image.AxesImage at 0x14fbf7490>"
      ]
     },
     "execution_count": 39,
     "metadata": {},
     "output_type": "execute_result"
    },
    {
     "data": {
      "image/png": "[encoded data removed]",
      "text/plain": [
       "<Figure size 640x480 with 1 Axes>"
      ]
     },
     "metadata": {},
     "output_type": "display_data"
    }
   ],
   "source": [
    "plt.imshow(test)"
   ]
  },
  {
   "cell_type": "code",
   "execution_count": 15,
   "metadata": {},
   "outputs": [],
   "source": [
    "sa_analyser = SAanalysis(60, 30, 6)"
   ]
  },
  {
   "cell_type": "code",
   "execution_count": 16,
   "metadata": {},
   "outputs": [],
   "source": [
    "for x in range(6):\n",
    "    sa_analyser.framesAppend(data['frames'][x][1])\n",
    "for x in range(60):\n",
    "    sa_analyser.diffAppend(data['diffs'][x][1])\n",
    "for x in range(30):\n",
    "    sa_analyser.centerAppend(data['centers'][x][1])"
   ]
  },
  {
   "cell_type": "code",
   "execution_count": 17,
   "metadata": {},
   "outputs": [
    {
     "name": "stdout",
     "output_type": "stream",
     "text": [
      "Metal device set to: Apple M1 Pro\n",
      "\n",
      "systemMemory: 16.00 GB\n",
      "maxCacheSize: 5.33 GB\n",
      "\n"
     ]
    },
    {
     "name": "stderr",
     "output_type": "stream",
     "text": [
      "2023-09-06 13:59:03.935904: I tensorflow/core/platform/cpu_feature_guard.cc:193] This TensorFlow binary is optimized with oneAPI Deep Neural Network Library (oneDNN) to use the following CPU instructions in performance-critical operations:  SSE4.1 SSE4.2\n",
      "To enable them in other operations, rebuild TensorFlow with the appropriate compiler flags.\n",
      "2023-09-06 13:59:03.938480: I tensorflow/core/common_runtime/pluggable_device/pluggable_device_factory.cc:306] Could not identify NUMA node of platform GPU ID 0, defaulting to 0. Your kernel may not have been built with NUMA support.\n",
      "2023-09-06 13:59:03.938744: I tensorflow/core/common_runtime/pluggable_device/pluggable_device_factory.cc:272] Created TensorFlow device (/job:localhost/replica:0/task:0/device:GPU:0 with 0 MB memory) -> physical PluggableDevice (device: 0, name: METAL, pci bus id: <undefined>)\n"
     ]
    }
   ],
   "source": [
    "sa_out = sa_analyser.inference()"
   ]
  },
  {
   "cell_type": "code",
   "execution_count": 18,
   "metadata": {},
   "outputs": [
    {
     "data": {
      "text/plain": [
       "{'frames': [<tf.Tensor: shape=(1, 250, 250, 3), dtype=float32, numpy=\n",
       "  array([[[[-0.5920561, -0.5920561, -0.5920561],\n",
       "           [-0.5920561, -0.5920561, -0.5920561],\n",
       "           [-0.5920561, -0.5920561, -0.5920561],\n",
       "           ...,\n",
       "           [-0.5920561, -0.5920561, -0.5920561],\n",
       "           [-0.5920561, -0.5920561, -0.5920561],\n",
       "           [-0.5920561, -0.5920561, -0.5920561]],\n",
       "  \n",
       "          [[-0.5920561, -0.5920561, -0.5920561],\n",
       "           [-0.5920561, -0.5920561, -0.5920561],\n",
       "           [-0.5920561, -0.5920561, -0.5920561],\n",
       "           ...,\n",
       "           [-0.5920561, -0.5920561, -0.5920561],\n",
       "           [-0.5920561, -0.5920561, -0.5920561],\n",
       "           [-0.5920561, -0.5920561, -0.5920561]],\n",
       "  \n",
       "          [[-0.5920561, -0.5920561, -0.5920561],\n",
       "           [-0.5920561, -0.5920561, -0.5920561],\n",
       "           [-0.5920561, -0.5920561, -0.5920561],\n",
       "           ...,\n",
       "           [-0.5920561, -0.5920561, -0.5920561],\n",
       "           [-0.5920561, -0.5920561, -0.5920561],\n",
       "           [-0.5920561, -0.5920561, -0.5920561]],\n",
       "  \n",
       "          ...,\n",
       "  \n",
       "          [[-0.5920561, -0.5920561, -0.5920561],\n",
       "           [-0.5920561, -0.5920561, -0.5920561],\n",
       "           [-0.5920561, -0.5920561, -0.5920561],\n",
       "           ...,\n",
       "           [-0.5920561, -0.5920561, -0.5920561],\n",
       "           [-0.5920561, -0.5920561, -0.5920561],\n",
       "           [-0.5920561, -0.5920561, -0.5920561]],\n",
       "  \n",
       "          [[-0.5920561, -0.5920561, -0.5920561],\n",
       "           [-0.5920561, -0.5920561, -0.5920561],\n",
       "           [-0.5920561, -0.5920561, -0.5920561],\n",
       "           ...,\n",
       "           [-0.5920561, -0.5920561, -0.5920561],\n",
       "           [-0.5920561, -0.5920561, -0.5920561],\n",
       "           [-0.5920561, -0.5920561, -0.5920561]],\n",
       "  \n",
       "          [[-0.5920561, -0.5920561, -0.5920561],\n",
       "           [-0.5920561, -0.5920561, -0.5920561],\n",
       "           [-0.5920561, -0.5920561, -0.5920561],\n",
       "           ...,\n",
       "           [-0.5920561, -0.5920561, -0.5920561],\n",
       "           [-0.5920561, -0.5920561, -0.5920561],\n",
       "           [-0.5920561, -0.5920561, -0.5920561]]]], dtype=float32)>,\n",
       "  <tf.Tensor: shape=(1, 250, 250, 3), dtype=float32, numpy=\n",
       "  array([[[[-0.55337083, -0.55337083, -0.55337083],\n",
       "           [-0.55337083, -0.55337083, -0.55337083],\n",
       "           [-0.55337083, -0.55337083, -0.55337083],\n",
       "           ...,\n",
       "           [-0.55337083, -0.55337083, -0.55337083],\n",
       "           [-0.55337083, -0.55337083, -0.55337083],\n",
       "           [-0.55337083, -0.55337083, -0.55337083]],\n",
       "  \n",
       "          [[-0.55337083, -0.55337083, -0.55337083],\n",
       "           [-0.55337083, -0.55337083, -0.55337083],\n",
       "           [-0.55337083, -0.55337083, -0.55337083],\n",
       "           ...,\n",
       "           [-0.55337083, -0.55337083, -0.55337083],\n",
       "           [-0.55337083, -0.55337083, -0.55337083],\n",
       "           [-0.55337083, -0.55337083, -0.55337083]],\n",
       "  \n",
       "          [[-0.55337083, -0.55337083, -0.55337083],\n",
       "           [-0.55337083, -0.55337083, -0.55337083],\n",
       "           [-0.55337083, -0.55337083, -0.55337083],\n",
       "           ...,\n",
       "           [-0.55337083, -0.55337083, -0.55337083],\n",
       "           [-0.55337083, -0.55337083, -0.55337083],\n",
       "           [-0.55337083, -0.55337083, -0.55337083]],\n",
       "  \n",
       "          ...,\n",
       "  \n",
       "          [[-0.55337083, -0.55337083, -0.55337083],\n",
       "           [-0.55337083, -0.55337083, -0.55337083],\n",
       "           [-0.55337083, -0.55337083, -0.55337083],\n",
       "           ...,\n",
       "           [-0.55337083, -0.55337083, -0.55337083],\n",
       "           [-0.55337083, -0.55337083, -0.55337083],\n",
       "           [-0.55337083, -0.55337083, -0.55337083]],\n",
       "  \n",
       "          [[-0.55337083, -0.55337083, -0.55337083],\n",
       "           [-0.55337083, -0.55337083, -0.55337083],\n",
       "           [-0.55337083, -0.55337083, -0.55337083],\n",
       "           ...,\n",
       "           [-0.55337083, -0.55337083, -0.55337083],\n",
       "           [-0.55337083, -0.55337083, -0.55337083],\n",
       "           [-0.55337083, -0.55337083, -0.55337083]],\n",
       "  \n",
       "          [[-0.55337083, -0.55337083, -0.55337083],\n",
       "           [-0.55337083, -0.55337083, -0.55337083],\n",
       "           [-0.55337083, -0.55337083, -0.55337083],\n",
       "           ...,\n",
       "           [-0.55337083, -0.55337083, -0.55337083],\n",
       "           [-0.55337083, -0.55337083, -0.55337083],\n",
       "           [-0.55337083, -0.55337083, -0.55337083]]]], dtype=float32)>,\n",
       "  <tf.Tensor: shape=(1, 250, 250, 3), dtype=float32, numpy=\n",
       "  array([[[[-0.60919535, -0.60919535, -0.60919535],\n",
       "           [-0.60919535, -0.60919535, -0.60919535],\n",
       "           [-0.60919535, -0.60919535, -0.60919535],\n",
       "           ...,\n",
       "           [-0.60919535, -0.60919535, -0.60919535],\n",
       "           [-0.60919535, -0.60919535, -0.60919535],\n",
       "           [-0.60919535, -0.60919535, -0.60919535]],\n",
       "  \n",
       "          [[-0.60919535, -0.60919535, -0.60919535],\n",
       "           [-0.60919535, -0.60919535, -0.60919535],\n",
       "           [-0.60919535, -0.60919535, -0.60919535],\n",
       "           ...,\n",
       "           [-0.60919535, -0.60919535, -0.60919535],\n",
       "           [-0.60919535, -0.60919535, -0.60919535],\n",
       "           [-0.60919535, -0.60919535, -0.60919535]],\n",
       "  \n",
       "          [[-0.60919535, -0.60919535, -0.60919535],\n",
       "           [-0.60919535, -0.60919535, -0.60919535],\n",
       "           [-0.60919535, -0.60919535, -0.60919535],\n",
       "           ...,\n",
       "           [-0.60919535, -0.60919535, -0.60919535],\n",
       "           [-0.60919535, -0.60919535, -0.60919535],\n",
       "           [-0.60919535, -0.60919535, -0.60919535]],\n",
       "  \n",
       "          ...,\n",
       "  \n",
       "          [[-0.60919535, -0.60919535, -0.60919535],\n",
       "           [-0.60919535, -0.60919535, -0.60919535],\n",
       "           [-0.60919535, -0.60919535, -0.60919535],\n",
       "           ...,\n",
       "           [-0.60919535, -0.60919535, -0.60919535],\n",
       "           [-0.60919535, -0.60919535, -0.60919535],\n",
       "           [-0.60919535, -0.60919535, -0.60919535]],\n",
       "  \n",
       "          [[-0.60919535, -0.60919535, -0.60919535],\n",
       "           [-0.60919535, -0.60919535, -0.60919535],\n",
       "           [-0.60919535, -0.60919535, -0.60919535],\n",
       "           ...,\n",
       "           [-0.60919535, -0.60919535, -0.60919535],\n",
       "           [-0.60919535, -0.60919535, -0.60919535],\n",
       "           [-0.60919535, -0.60919535, -0.60919535]],\n",
       "  \n",
       "          [[-0.60919535, -0.60919535, -0.60919535],\n",
       "           [-0.60919535, -0.60919535, -0.60919535],\n",
       "           [-0.60919535, -0.60919535, -0.60919535],\n",
       "           ...,\n",
       "           [-0.60919535, -0.60919535, -0.60919535],\n",
       "           [-0.60919535, -0.60919535, -0.60919535],\n",
       "           [-0.60919535, -0.60919535, -0.60919535]]]], dtype=float32)>,\n",
       "  <tf.Tensor: shape=(1, 250, 250, 3), dtype=float32, numpy=\n",
       "  array([[[[-0.63350344, -0.63350344, -0.63350344],\n",
       "           [-0.63350344, -0.63350344, -0.63350344],\n",
       "           [-0.63350344, -0.63350344, -0.63350344],\n",
       "           ...,\n",
       "           [-0.63350344, -0.63350344, -0.63350344],\n",
       "           [-0.63350344, -0.63350344, -0.63350344],\n",
       "           [-0.63350344, -0.63350344, -0.63350344]],\n",
       "  \n",
       "          [[-0.63350344, -0.63350344, -0.63350344],\n",
       "           [-0.63350344, -0.63350344, -0.63350344],\n",
       "           [-0.63350344, -0.63350344, -0.63350344],\n",
       "           ...,\n",
       "           [-0.63350344, -0.63350344, -0.63350344],\n",
       "           [-0.63350344, -0.63350344, -0.63350344],\n",
       "           [-0.63350344, -0.63350344, -0.63350344]],\n",
       "  \n",
       "          [[-0.63350344, -0.63350344, -0.63350344],\n",
       "           [-0.63350344, -0.63350344, -0.63350344],\n",
       "           [-0.63350344, -0.63350344, -0.63350344],\n",
       "           ...,\n",
       "           [-0.63350344, -0.63350344, -0.63350344],\n",
       "           [-0.63350344, -0.63350344, -0.63350344],\n",
       "           [-0.63350344, -0.63350344, -0.63350344]],\n",
       "  \n",
       "          ...,\n",
       "  \n",
       "          [[-0.63350344, -0.63350344, -0.63350344],\n",
       "           [-0.63350344, -0.63350344, -0.63350344],\n",
       "           [-0.63350344, -0.63350344, -0.63350344],\n",
       "           ...,\n",
       "           [-0.63350344, -0.63350344, -0.63350344],\n",
       "           [-0.63350344, -0.63350344, -0.63350344],\n",
       "           [-0.63350344, -0.63350344, -0.63350344]],\n",
       "  \n",
       "          [[-0.63350344, -0.63350344, -0.63350344],\n",
       "           [-0.63350344, -0.63350344, -0.63350344],\n",
       "           [-0.63350344, -0.63350344, -0.63350344],\n",
       "           ...,\n",
       "           [-0.63350344, -0.63350344, -0.63350344],\n",
       "           [-0.63350344, -0.63350344, -0.63350344],\n",
       "           [-0.63350344, -0.63350344, -0.63350344]],\n",
       "  \n",
       "          [[-0.63350344, -0.63350344, -0.63350344],\n",
       "           [-0.63350344, -0.63350344, -0.63350344],\n",
       "           [-0.63350344, -0.63350344, -0.63350344],\n",
       "           ...,\n",
       "           [-0.63350344, -0.63350344, -0.63350344],\n",
       "           [-0.63350344, -0.63350344, -0.63350344],\n",
       "           [-0.63350344, -0.63350344, -0.63350344]]]], dtype=float32)>,\n",
       "  <tf.Tensor: shape=(1, 250, 250, 3), dtype=float32, numpy=\n",
       "  array([[[[-0.5943425, -0.5943425, -0.5943425],\n",
       "           [-0.5943425, -0.5943425, -0.5943425],\n",
       "           [-0.5943425, -0.5943425, -0.5943425],\n",
       "           ...,\n",
       "           [-0.5943425, -0.5943425, -0.5943425],\n",
       "           [-0.5943425, -0.5943425, -0.5943425],\n",
       "           [-0.5943425, -0.5943425, -0.5943425]],\n",
       "  \n",
       "          [[-0.5943425, -0.5943425, -0.5943425],\n",
       "           [-0.5943425, -0.5943425, -0.5943425],\n",
       "           [-0.5943425, -0.5943425, -0.5943425],\n",
       "           ...,\n",
       "           [-0.5943425, -0.5943425, -0.5943425],\n",
       "           [-0.5943425, -0.5943425, -0.5943425],\n",
       "           [-0.5943425, -0.5943425, -0.5943425]],\n",
       "  \n",
       "          [[-0.5943425, -0.5943425, -0.5943425],\n",
       "           [-0.5943425, -0.5943425, -0.5943425],\n",
       "           [-0.5943425, -0.5943425, -0.5943425],\n",
       "           ...,\n",
       "           [-0.5943425, -0.5943425, -0.5943425],\n",
       "           [-0.5943425, -0.5943425, -0.5943425],\n",
       "           [-0.5943425, -0.5943425, -0.5943425]],\n",
       "  \n",
       "          ...,\n",
       "  \n",
       "          [[-0.5943425, -0.5943425, -0.5943425],\n",
       "           [-0.5943425, -0.5943425, -0.5943425],\n",
       "           [-0.5943425, -0.5943425, -0.5943425],\n",
       "           ...,\n",
       "           [-0.5943425, -0.5943425, -0.5943425],\n",
       "           [-0.5943425, -0.5943425, -0.5943425],\n",
       "           [-0.5943425, -0.5943425, -0.5943425]],\n",
       "  \n",
       "          [[-0.5943425, -0.5943425, -0.5943425],\n",
       "           [-0.5943425, -0.5943425, -0.5943425],\n",
       "           [-0.5943425, -0.5943425, -0.5943425],\n",
       "           ...,\n",
       "           [-0.5943425, -0.5943425, -0.5943425],\n",
       "           [-0.5943425, -0.5943425, -0.5943425],\n",
       "           [-0.5943425, -0.5943425, -0.5943425]],\n",
       "  \n",
       "          [[-0.5943425, -0.5943425, -0.5943425],\n",
       "           [-0.5943425, -0.5943425, -0.5943425],\n",
       "           [-0.5943425, -0.5943425, -0.5943425],\n",
       "           ...,\n",
       "           [-0.5943425, -0.5943425, -0.5943425],\n",
       "           [-0.5943425, -0.5943425, -0.5943425],\n",
       "           [-0.5943425, -0.5943425, -0.5943425]]]], dtype=float32)>,\n",
       "  <tf.Tensor: shape=(1, 250, 250, 3), dtype=float32, numpy=\n",
       "  array([[[[-0.5368858, -0.5368858, -0.5368858],\n",
       "           [-0.5368858, -0.5368858, -0.5368858],\n",
       "           [-0.5368858, -0.5368858, -0.5368858],\n",
       "           ...,\n",
       "           [-0.5368858, -0.5368858, -0.5368858],\n",
       "           [-0.5368858, -0.5368858, -0.5368858],\n",
       "           [-0.5368858, -0.5368858, -0.5368858]],\n",
       "  \n",
       "          [[-0.5368858, -0.5368858, -0.5368858],\n",
       "           [-0.5368858, -0.5368858, -0.5368858],\n",
       "           [-0.5368858, -0.5368858, -0.5368858],\n",
       "           ...,\n",
       "           [-0.5368858, -0.5368858, -0.5368858],\n",
       "           [-0.5368858, -0.5368858, -0.5368858],\n",
       "           [-0.5368858, -0.5368858, -0.5368858]],\n",
       "  \n",
       "          [[-0.5368858, -0.5368858, -0.5368858],\n",
       "           [-0.5368858, -0.5368858, -0.5368858],\n",
       "           [-0.5368858, -0.5368858, -0.5368858],\n",
       "           ...,\n",
       "           [-0.5368858, -0.5368858, -0.5368858],\n",
       "           [-0.5368858, -0.5368858, -0.5368858],\n",
       "           [-0.5368858, -0.5368858, -0.5368858]],\n",
       "  \n",
       "          ...,\n",
       "  \n",
       "          [[-0.5368858, -0.5368858, -0.5368858],\n",
       "           [-0.5368858, -0.5368858, -0.5368858],\n",
       "           [-0.5368858, -0.5368858, -0.5368858],\n",
       "           ...,\n",
       "           [-0.5368858, -0.5368858, -0.5368858],\n",
       "           [-0.5368858, -0.5368858, -0.5368858],\n",
       "           [-0.5368858, -0.5368858, -0.5368858]],\n",
       "  \n",
       "          [[-0.5368858, -0.5368858, -0.5368858],\n",
       "           [-0.5368858, -0.5368858, -0.5368858],\n",
       "           [-0.5368858, -0.5368858, -0.5368858],\n",
       "           ...,\n",
       "           [-0.5368858, -0.5368858, -0.5368858],\n",
       "           [-0.5368858, -0.5368858, -0.5368858],\n",
       "           [-0.5368858, -0.5368858, -0.5368858]],\n",
       "  \n",
       "          [[-0.5368858, -0.5368858, -0.5368858],\n",
       "           [-0.5368858, -0.5368858, -0.5368858],\n",
       "           [-0.5368858, -0.5368858, -0.5368858],\n",
       "           ...,\n",
       "           [-0.5368858, -0.5368858, -0.5368858],\n",
       "           [-0.5368858, -0.5368858, -0.5368858],\n",
       "           [-0.5368858, -0.5368858, -0.5368858]]]], dtype=float32)>],\n",
       " 'diffs': <tf.Tensor: shape=(1, 1), dtype=float32, numpy=array([[2981461.2]], dtype=float32)>,\n",
       " 'centers': <tf.Tensor: shape=(1, 1), dtype=float32, numpy=array([[11.1539545]], dtype=float32)>}"
      ]
     },
     "execution_count": 18,
     "metadata": {},
     "output_type": "execute_result"
    }
   ],
   "source": [
    "sa_out"
   ]
  },
  {
   "cell_type": "code",
   "execution_count": 19,
   "metadata": {},
   "outputs": [],
   "source": [
    "frames = [0,1,2,5,6,7]\n",
    "for i,x in enumerate(frames):\n",
    "    interpreter.set_tensor(x, sa_out['frames'][i])\n",
    "interpreter.set_tensor(3, sa_out['centers'])\n",
    "interpreter.set_tensor(4, sa_out['diffs'])"
   ]
  },
  {
   "cell_type": "code",
   "execution_count": 15,
   "metadata": {},
   "outputs": [],
   "source": [
    "diffs_avg = 1902921"
   ]
  },
  {
   "cell_type": "code",
   "execution_count": 16,
   "metadata": {},
   "outputs": [
    {
     "name": "stdout",
     "output_type": "stream",
     "text": [
      "Metal device set to: Apple M1 Pro\n",
      "\n",
      "systemMemory: 16.00 GB\n",
      "maxCacheSize: 5.33 GB\n",
      "\n"
     ]
    },
    {
     "name": "stderr",
     "output_type": "stream",
     "text": [
      "2023-09-07 16:15:17.584204: I tensorflow/core/platform/cpu_feature_guard.cc:193] This TensorFlow binary is optimized with oneAPI Deep Neural Network Library (oneDNN) to use the following CPU instructions in performance-critical operations:  SSE4.1 SSE4.2\n",
      "To enable them in other operations, rebuild TensorFlow with the appropriate compiler flags.\n",
      "2023-09-07 16:15:17.586710: I tensorflow/core/common_runtime/pluggable_device/pluggable_device_factory.cc:306] Could not identify NUMA node of platform GPU ID 0, defaulting to 0. Your kernel may not have been built with NUMA support.\n",
      "2023-09-07 16:15:17.586778: I tensorflow/core/common_runtime/pluggable_device/pluggable_device_factory.cc:272] Created TensorFlow device (/job:localhost/replica:0/task:0/device:GPU:0 with 0 MB memory) -> physical PluggableDevice (device: 0, name: METAL, pci bus id: <undefined>)\n"
     ]
    }
   ],
   "source": [
    "t_diffs = tf.convert_to_tensor([diffs_avg], tf.float32)"
   ]
  },
  {
   "cell_type": "code",
   "execution_count": 17,
   "metadata": {},
   "outputs": [
    {
     "data": {
      "text/plain": [
       "<tf.Tensor: shape=(1,), dtype=float32, numpy=array([1902921.], dtype=float32)>"
      ]
     },
     "execution_count": 17,
     "metadata": {},
     "output_type": "execute_result"
    }
   ],
   "source": [
    "t_diffs"
   ]
  },
  {
   "cell_type": "code",
   "execution_count": 18,
   "metadata": {},
   "outputs": [
    {
     "data": {
      "text/plain": [
       "<tf.Tensor: shape=(1, 1), dtype=float32, numpy=array([[1902921.]], dtype=float32)>"
      ]
     },
     "execution_count": 18,
     "metadata": {},
     "output_type": "execute_result"
    }
   ],
   "source": [
    "t_diffs[tf.newaxis, ...]"
   ]
  },
  {
   "cell_type": "code",
   "execution_count": 25,
   "metadata": {},
   "outputs": [],
   "source": [
    "t_diffs = np.array([diffs_avg], dtype=np.float32)"
   ]
  },
  {
   "cell_type": "code",
   "execution_count": 26,
   "metadata": {},
   "outputs": [
    {
     "data": {
      "text/plain": [
       "array([1902921.], dtype=float32)"
      ]
     },
     "execution_count": 26,
     "metadata": {},
     "output_type": "execute_result"
    }
   ],
   "source": [
    "t_diffs"
   ]
  },
  {
   "cell_type": "code",
   "execution_count": 27,
   "metadata": {},
   "outputs": [
    {
     "data": {
      "text/plain": [
       "array([[1902921.]], dtype=float32)"
      ]
     },
     "execution_count": 27,
     "metadata": {},
     "output_type": "execute_result"
    }
   ],
   "source": [
    "np.expand_dims(t_diffs, axis=0)"
   ]
  },
  {
   "cell_type": "code",
   "execution_count": 28,
   "metadata": {},
   "outputs": [],
   "source": [
    "arr = np.array([[[ 1,  2,  3],\n",
    "          [ 4,  5,  6]],\n",
    "         [[ 7,  8,  9],\n",
    "          [10, 11, 12]]])"
   ]
  },
  {
   "cell_type": "code",
   "execution_count": 30,
   "metadata": {},
   "outputs": [
    {
     "data": {
      "text/plain": [
       "(2, 2, 3)"
      ]
     },
     "execution_count": 30,
     "metadata": {},
     "output_type": "execute_result"
    }
   ],
   "source": [
    "arr.shape"
   ]
  },
  {
   "cell_type": "code",
   "execution_count": 36,
   "metadata": {},
   "outputs": [
    {
     "data": {
      "text/plain": [
       "array([[[ 1,  2,  3],\n",
       "        [ 4,  5,  6]],\n",
       "\n",
       "       [[ 7,  8,  9],\n",
       "        [10, 11, 12]]])"
      ]
     },
     "execution_count": 36,
     "metadata": {},
     "output_type": "execute_result"
    }
   ],
   "source": [
    "mean = np.mean(arr)\n",
    "stdev = np.std(arr)\n",
    "arr"
   ]
  },
  {
   "cell_type": "code",
   "execution_count": 37,
   "metadata": {},
   "outputs": [
    {
     "data": {
      "text/plain": [
       "array([[[-1.59325501, -1.30357228, -1.01388955],\n",
       "        [-0.72420682, -0.43452409, -0.14484136]],\n",
       "\n",
       "       [[ 0.14484136,  0.43452409,  0.72420682],\n",
       "        [ 1.01388955,  1.30357228,  1.59325501]]])"
      ]
     },
     "execution_count": 37,
     "metadata": {},
     "output_type": "execute_result"
    }
   ],
   "source": [
    "(arr - mean) / stdev"
   ]
  },
  {
   "cell_type": "code",
   "execution_count": 20,
   "metadata": {},
   "outputs": [],
   "source": [
    "interpreter.invoke()"
   ]
  },
  {
   "cell_type": "code",
   "execution_count": 21,
   "metadata": {},
   "outputs": [
    {
     "data": {
      "text/plain": [
       "array([[0.23773754]], dtype=float32)"
      ]
     },
     "execution_count": 21,
     "metadata": {},
     "output_type": "execute_result"
    }
   ],
   "source": [
    "interpreter.get_tensor(output_details[0]['index'])"
   ]
  },
  {
   "cell_type": "code",
   "execution_count": 22,
   "metadata": {},
   "outputs": [
    {
     "name": "stdout",
     "output_type": "stream",
     "text": [
      "Loading model..."
     ]
    }
   ],
   "source": [
    "print('Loading model...', end='')\n",
    "\n",
    "\n",
    "# Load saved model and build the detection function\n",
    "sa_model = tf.saved_model.load(\"sa2_saved_model/my_model/\")\n",
    "\n",
    "\n",
    "#Mouse Detector Initialization\n"
   ]
  },
  {
   "cell_type": "code",
   "execution_count": 25,
   "metadata": {},
   "outputs": [
    {
     "name": "stderr",
     "output_type": "stream",
     "text": [
      "OpenCV: Couldn't read movie file \"\"\n",
      "[ERROR:0@17.801] global cap.cpp:166 open VIDEOIO(CV_IMAGES): raised OpenCV exception:\n",
      "\n",
      "OpenCV(4.7.0) /Users/runner/work/opencv-python/opencv-python/opencv/modules/videoio/src/cap_images.cpp:293: error: (-215:Assertion failed) !_filename.empty() in function 'open'\n",
      "\n",
      "\n"
     ]
    }
   ],
   "source": [
    "from MouseDetector import MouseDetector\n",
    "\n",
    "md = MouseDetector(None, mouseDetection=True)"
   ]
  },
  {
   "cell_type": "code",
   "execution_count": 26,
   "metadata": {},
   "outputs": [],
   "source": [
    "\n",
    "\n",
    "def average(l):\n",
    "    return sum(l)/len(l)\n",
    "\n",
    "detectTimes = [20, 10, 5, 3, 2, 1]\n",
    "\n",
    "numFrames = 60\n",
    "\n",
    "count = 0\n",
    "\n",
    "predictions = []\n",
    "\n",
    "class SAanalysis:\n",
    "    def __init__(self, model, diff_len, centers_len, frames_len):\n",
    "        self.diffs_len = diff_len\n",
    "        self.centers_len = centers_len\n",
    "        self.frames_len = frames_len\n",
    "\n",
    "        self.model = model\n",
    "\n",
    "        self.diffs = []\n",
    "        self.centers = []\n",
    "        self.frames = []\n",
    "\n",
    "    def diffAppend(self, value):\n",
    "        if len(self.diffs) < self.diffs_len:\n",
    "            self.diffs.append(value)\n",
    "        elif len(self.diffs) == self.diffs_len:\n",
    "            self.diffs.pop(0)\n",
    "            self.diffs.append(value)\n",
    "\n",
    "    def centerAppend(self, value):\n",
    "        if len(self.centers) < self.centers_len:\n",
    "            self.centers.append(value)\n",
    "        elif len(self.centers) == self.centers_len:\n",
    "            self.centers.pop(0)\n",
    "            self.centers.append(value)\n",
    "\n",
    "    def framesAppend(self, value):\n",
    "        if len(self.frames) < self.frames_len:\n",
    "            self.frames.append(value)\n",
    "        elif len(self.frames) == self.frames_len:\n",
    "            self.frames.pop(0)\n",
    "            self.frames.append(value)\n",
    "\n",
    "    def inference(self):\n",
    "        diffs_avg = average(self.diffs)\n",
    "\n",
    "        n_center = []\n",
    "        for i,k in zip(self.centers[0::], self.centers[1::]):\n",
    "            d = md.distance(i,k)\n",
    "            n_center.append(d)\n",
    "            \n",
    "\n",
    "        centers_avg = average(n_center)    \n",
    "\n",
    "        t_diffs = tf.convert_to_tensor([diffs_avg], dtype=tf.float32)\n",
    "        t_centers = tf.convert_to_tensor([centers_avg], dtype=tf.float32)\n",
    "\n",
    "        t_frames = [tf.image.per_image_standardization(tf.convert_to_tensor(frame, dtype=tf.float32)) for frame in self.frames]\n",
    "\n",
    "        return self.model([t_frames[0][tf.newaxis, ...],t_frames[1][tf.newaxis, ...],t_frames[2][tf.newaxis, ...],t_frames[3][tf.newaxis, ...],t_frames[4][tf.newaxis, ...],t_frames[5][tf.newaxis, ...], t_diffs[tf.newaxis, ...], t_centers[tf.newaxis, ...]])\n",
    "\n",
    "sa_analyser = SAanalysis(sa_model, 60, 30, 6)"
   ]
  },
  {
   "cell_type": "code",
   "execution_count": 27,
   "metadata": {},
   "outputs": [],
   "source": [
    "for x in range(6):\n",
    "    sa_analyser.framesAppend(data['frames'][x][1])\n",
    "for x in range(60):\n",
    "    sa_analyser.diffAppend(data['diffs'][x][1])\n",
    "for x in range(30):\n",
    "    sa_analyser.centerAppend(data['centers'][x][1])"
   ]
  },
  {
   "cell_type": "code",
   "execution_count": 28,
   "metadata": {},
   "outputs": [
    {
     "ename": "ValueError",
     "evalue": "Could not find matching concrete function to call loaded from the SavedModel. Got:\n  Positional arguments (3 total):\n    * [<tf.Tensor 'inputs:0' shape=(1, 250, 250, 3) dtype=float32>,\n <tf.Tensor 'inputs_1:0' shape=(1, 249, 249, 3) dtype=float32>,\n <tf.Tensor 'inputs_2:0' shape=(1, 250, 249, 3) dtype=float32>,\n <tf.Tensor 'inputs_3:0' shape=(1, 249, 249, 3) dtype=float32>,\n <tf.Tensor 'inputs_4:0' shape=(1, 249, 250, 3) dtype=float32>,\n <tf.Tensor 'inputs_5:0' shape=(1, 250, 249, 3) dtype=float32>,\n <tf.Tensor 'inputs_6:0' shape=(1, 1) dtype=float32>,\n <tf.Tensor 'inputs_7:0' shape=(1, 1) dtype=float32>]\n    * False\n    * None\n  Keyword arguments: {}\n\n Expected these arguments to match one of the following 4 option(s):\n\nOption 1:\n  Positional arguments (3 total):\n    * [TensorSpec(shape=(None, 250, 250, 3), dtype=tf.float32, name='input_1'),\n TensorSpec(shape=(None, 250, 250, 3), dtype=tf.float32, name='input_2'),\n TensorSpec(shape=(None, 250, 250, 3), dtype=tf.float32, name='input_3'),\n TensorSpec(shape=(None, 250, 250, 3), dtype=tf.float32, name='input_4'),\n TensorSpec(shape=(None, 250, 250, 3), dtype=tf.float32, name='input_5'),\n TensorSpec(shape=(None, 250, 250, 3), dtype=tf.float32, name='input_6'),\n TensorSpec(shape=(None, 1), dtype=tf.float32, name='input_7'),\n TensorSpec(shape=(None, 1), dtype=tf.float32, name='input_8')]\n    * False\n    * None\n  Keyword arguments: {}\n\nOption 2:\n  Positional arguments (3 total):\n    * [TensorSpec(shape=(None, 250, 250, 3), dtype=tf.float32, name='inputs/0'),\n TensorSpec(shape=(None, 250, 250, 3), dtype=tf.float32, name='inputs/1'),\n TensorSpec(shape=(None, 250, 250, 3), dtype=tf.float32, name='inputs/2'),\n TensorSpec(shape=(None, 250, 250, 3), dtype=tf.float32, name='inputs/3'),\n TensorSpec(shape=(None, 250, 250, 3), dtype=tf.float32, name='inputs/4'),\n TensorSpec(shape=(None, 250, 250, 3), dtype=tf.float32, name='inputs/5'),\n TensorSpec(shape=(None, 1), dtype=tf.float32, name='inputs/6'),\n TensorSpec(shape=(None, 1), dtype=tf.float32, name='inputs/7')]\n    * False\n    * None\n  Keyword arguments: {}\n\nOption 3:\n  Positional arguments (3 total):\n    * [TensorSpec(shape=(None, 250, 250, 3), dtype=tf.float32, name='inputs/0'),\n TensorSpec(shape=(None, 250, 250, 3), dtype=tf.float32, name='inputs/1'),\n TensorSpec(shape=(None, 250, 250, 3), dtype=tf.float32, name='inputs/2'),\n TensorSpec(shape=(None, 250, 250, 3), dtype=tf.float32, name='inputs/3'),\n TensorSpec(shape=(None, 250, 250, 3), dtype=tf.float32, name='inputs/4'),\n TensorSpec(shape=(None, 250, 250, 3), dtype=tf.float32, name='inputs/5'),\n TensorSpec(shape=(None, 1), dtype=tf.float32, name='inputs/6'),\n TensorSpec(shape=(None, 1), dtype=tf.float32, name='inputs/7')]\n    * True\n    * None\n  Keyword arguments: {}\n\nOption 4:\n  Positional arguments (3 total):\n    * [TensorSpec(shape=(None, 250, 250, 3), dtype=tf.float32, name='input_1'),\n TensorSpec(shape=(None, 250, 250, 3), dtype=tf.float32, name='input_2'),\n TensorSpec(shape=(None, 250, 250, 3), dtype=tf.float32, name='input_3'),\n TensorSpec(shape=(None, 250, 250, 3), dtype=tf.float32, name='input_4'),\n TensorSpec(shape=(None, 250, 250, 3), dtype=tf.float32, name='input_5'),\n TensorSpec(shape=(None, 250, 250, 3), dtype=tf.float32, name='input_6'),\n TensorSpec(shape=(None, 1), dtype=tf.float32, name='input_7'),\n TensorSpec(shape=(None, 1), dtype=tf.float32, name='input_8')]\n    * True\n    * None\n  Keyword arguments: {}",
     "output_type": "error",
     "traceback": [
      "\u001b[0;31m---------------------------------------------------------------------------\u001b[0m",
      "\u001b[0;31mValueError\u001b[0m                                Traceback (most recent call last)",
      "Cell \u001b[0;32mIn[28], line 1\u001b[0m\n\u001b[0;32m----> 1\u001b[0m sa_analyser\u001b[39m.\u001b[39;49minference()\n",
      "Cell \u001b[0;32mIn[26], line 61\u001b[0m, in \u001b[0;36mSAanalysis.inference\u001b[0;34m(self)\u001b[0m\n\u001b[1;32m     57\u001b[0m t_centers \u001b[39m=\u001b[39m tf\u001b[39m.\u001b[39mconvert_to_tensor([centers_avg], dtype\u001b[39m=\u001b[39mtf\u001b[39m.\u001b[39mfloat32)\n\u001b[1;32m     59\u001b[0m t_frames \u001b[39m=\u001b[39m [tf\u001b[39m.\u001b[39mimage\u001b[39m.\u001b[39mper_image_standardization(tf\u001b[39m.\u001b[39mconvert_to_tensor(frame, dtype\u001b[39m=\u001b[39mtf\u001b[39m.\u001b[39mfloat32)) \u001b[39mfor\u001b[39;00m frame \u001b[39min\u001b[39;00m \u001b[39mself\u001b[39m\u001b[39m.\u001b[39mframes]\n\u001b[0;32m---> 61\u001b[0m \u001b[39mreturn\u001b[39;00m \u001b[39mself\u001b[39;49m\u001b[39m.\u001b[39;49mmodel([t_frames[\u001b[39m0\u001b[39;49m][tf\u001b[39m.\u001b[39;49mnewaxis, \u001b[39m.\u001b[39;49m\u001b[39m.\u001b[39;49m\u001b[39m.\u001b[39;49m],t_frames[\u001b[39m1\u001b[39;49m][tf\u001b[39m.\u001b[39;49mnewaxis, \u001b[39m.\u001b[39;49m\u001b[39m.\u001b[39;49m\u001b[39m.\u001b[39;49m],t_frames[\u001b[39m2\u001b[39;49m][tf\u001b[39m.\u001b[39;49mnewaxis, \u001b[39m.\u001b[39;49m\u001b[39m.\u001b[39;49m\u001b[39m.\u001b[39;49m],t_frames[\u001b[39m3\u001b[39;49m][tf\u001b[39m.\u001b[39;49mnewaxis, \u001b[39m.\u001b[39;49m\u001b[39m.\u001b[39;49m\u001b[39m.\u001b[39;49m],t_frames[\u001b[39m4\u001b[39;49m][tf\u001b[39m.\u001b[39;49mnewaxis, \u001b[39m.\u001b[39;49m\u001b[39m.\u001b[39;49m\u001b[39m.\u001b[39;49m],t_frames[\u001b[39m5\u001b[39;49m][tf\u001b[39m.\u001b[39;49mnewaxis, \u001b[39m.\u001b[39;49m\u001b[39m.\u001b[39;49m\u001b[39m.\u001b[39;49m], t_diffs[tf\u001b[39m.\u001b[39;49mnewaxis, \u001b[39m.\u001b[39;49m\u001b[39m.\u001b[39;49m\u001b[39m.\u001b[39;49m], t_centers[tf\u001b[39m.\u001b[39;49mnewaxis, \u001b[39m.\u001b[39;49m\u001b[39m.\u001b[39;49m\u001b[39m.\u001b[39;49m]])\n",
      "File \u001b[0;32m~/opt/anaconda3/envs/tfNew/lib/python3.9/site-packages/tensorflow/python/saved_model/load.py:732\u001b[0m, in \u001b[0;36m_call_attribute\u001b[0;34m(instance, *args, **kwargs)\u001b[0m\n\u001b[1;32m    731\u001b[0m \u001b[39mdef\u001b[39;00m \u001b[39m_call_attribute\u001b[39m(instance, \u001b[39m*\u001b[39margs, \u001b[39m*\u001b[39m\u001b[39m*\u001b[39mkwargs):\n\u001b[0;32m--> 732\u001b[0m   \u001b[39mreturn\u001b[39;00m instance\u001b[39m.\u001b[39;49m\u001b[39m__call__\u001b[39;49m(\u001b[39m*\u001b[39;49margs, \u001b[39m*\u001b[39;49m\u001b[39m*\u001b[39;49mkwargs)\n",
      "File \u001b[0;32m~/opt/anaconda3/envs/tfNew/lib/python3.9/site-packages/tensorflow/python/util/traceback_utils.py:153\u001b[0m, in \u001b[0;36mfilter_traceback.<locals>.error_handler\u001b[0;34m(*args, **kwargs)\u001b[0m\n\u001b[1;32m    151\u001b[0m \u001b[39mexcept\u001b[39;00m \u001b[39mException\u001b[39;00m \u001b[39mas\u001b[39;00m e:\n\u001b[1;32m    152\u001b[0m   filtered_tb \u001b[39m=\u001b[39m _process_traceback_frames(e\u001b[39m.\u001b[39m__traceback__)\n\u001b[0;32m--> 153\u001b[0m   \u001b[39mraise\u001b[39;00m e\u001b[39m.\u001b[39mwith_traceback(filtered_tb) \u001b[39mfrom\u001b[39;00m \u001b[39mNone\u001b[39m\n\u001b[1;32m    154\u001b[0m \u001b[39mfinally\u001b[39;00m:\n\u001b[1;32m    155\u001b[0m   \u001b[39mdel\u001b[39;00m filtered_tb\n",
      "File \u001b[0;32m~/opt/anaconda3/envs/tfNew/lib/python3.9/site-packages/tensorflow/python/saved_model/function_deserialization.py:295\u001b[0m, in \u001b[0;36mrecreate_function.<locals>.restored_function_body\u001b[0;34m(*args, **kwargs)\u001b[0m\n\u001b[1;32m    291\u001b[0m   positional, keyword \u001b[39m=\u001b[39m concrete_function\u001b[39m.\u001b[39mstructured_input_signature\n\u001b[1;32m    292\u001b[0m   signature_descriptions\u001b[39m.\u001b[39mappend(\n\u001b[1;32m    293\u001b[0m       \u001b[39m\"\u001b[39m\u001b[39mOption \u001b[39m\u001b[39m{}\u001b[39;00m\u001b[39m:\u001b[39m\u001b[39m\\n\u001b[39;00m\u001b[39m  \u001b[39m\u001b[39m{}\u001b[39;00m\u001b[39m\\n\u001b[39;00m\u001b[39m  Keyword arguments: \u001b[39m\u001b[39m{}\u001b[39;00m\u001b[39m\"\u001b[39m\u001b[39m.\u001b[39mformat(\n\u001b[1;32m    294\u001b[0m           index \u001b[39m+\u001b[39m \u001b[39m1\u001b[39m, _pretty_format_positional(positional), keyword))\n\u001b[0;32m--> 295\u001b[0m \u001b[39mraise\u001b[39;00m \u001b[39mValueError\u001b[39;00m(\n\u001b[1;32m    296\u001b[0m     \u001b[39m\"\u001b[39m\u001b[39mCould not find matching concrete function to call loaded from the \u001b[39m\u001b[39m\"\u001b[39m\n\u001b[1;32m    297\u001b[0m     \u001b[39mf\u001b[39m\u001b[39m\"\u001b[39m\u001b[39mSavedModel. Got:\u001b[39m\u001b[39m\\n\u001b[39;00m\u001b[39m  \u001b[39m\u001b[39m{\u001b[39;00m_pretty_format_positional(args)\u001b[39m}\u001b[39;00m\u001b[39m\\n\u001b[39;00m\u001b[39m  Keyword \u001b[39m\u001b[39m\"\u001b[39m\n\u001b[1;32m    298\u001b[0m     \u001b[39mf\u001b[39m\u001b[39m\"\u001b[39m\u001b[39marguments: \u001b[39m\u001b[39m{\u001b[39;00mkwargs\u001b[39m}\u001b[39;00m\u001b[39m\\n\u001b[39;00m\u001b[39m\\n\u001b[39;00m\u001b[39m Expected these arguments to match one of the \u001b[39m\u001b[39m\"\u001b[39m\n\u001b[1;32m    299\u001b[0m     \u001b[39mf\u001b[39m\u001b[39m\"\u001b[39m\u001b[39mfollowing \u001b[39m\u001b[39m{\u001b[39;00m\u001b[39mlen\u001b[39m(saved_function\u001b[39m.\u001b[39mconcrete_functions)\u001b[39m}\u001b[39;00m\u001b[39m option(s):\u001b[39m\u001b[39m\\n\u001b[39;00m\u001b[39m\\n\u001b[39;00m\u001b[39m\"\u001b[39m\n\u001b[1;32m    300\u001b[0m     \u001b[39mf\u001b[39m\u001b[39m\"\u001b[39m\u001b[39m{\u001b[39;00m(\u001b[39mchr\u001b[39m(\u001b[39m10\u001b[39m)\u001b[39m+\u001b[39m\u001b[39mchr\u001b[39m(\u001b[39m10\u001b[39m))\u001b[39m.\u001b[39mjoin(signature_descriptions)\u001b[39m}\u001b[39;00m\u001b[39m\"\u001b[39m)\n",
      "\u001b[0;31mValueError\u001b[0m: Could not find matching concrete function to call loaded from the SavedModel. Got:\n  Positional arguments (3 total):\n    * [<tf.Tensor 'inputs:0' shape=(1, 250, 250, 3) dtype=float32>,\n <tf.Tensor 'inputs_1:0' shape=(1, 249, 249, 3) dtype=float32>,\n <tf.Tensor 'inputs_2:0' shape=(1, 250, 249, 3) dtype=float32>,\n <tf.Tensor 'inputs_3:0' shape=(1, 249, 249, 3) dtype=float32>,\n <tf.Tensor 'inputs_4:0' shape=(1, 249, 250, 3) dtype=float32>,\n <tf.Tensor 'inputs_5:0' shape=(1, 250, 249, 3) dtype=float32>,\n <tf.Tensor 'inputs_6:0' shape=(1, 1) dtype=float32>,\n <tf.Tensor 'inputs_7:0' shape=(1, 1) dtype=float32>]\n    * False\n    * None\n  Keyword arguments: {}\n\n Expected these arguments to match one of the following 4 option(s):\n\nOption 1:\n  Positional arguments (3 total):\n    * [TensorSpec(shape=(None, 250, 250, 3), dtype=tf.float32, name='input_1'),\n TensorSpec(shape=(None, 250, 250, 3), dtype=tf.float32, name='input_2'),\n TensorSpec(shape=(None, 250, 250, 3), dtype=tf.float32, name='input_3'),\n TensorSpec(shape=(None, 250, 250, 3), dtype=tf.float32, name='input_4'),\n TensorSpec(shape=(None, 250, 250, 3), dtype=tf.float32, name='input_5'),\n TensorSpec(shape=(None, 250, 250, 3), dtype=tf.float32, name='input_6'),\n TensorSpec(shape=(None, 1), dtype=tf.float32, name='input_7'),\n TensorSpec(shape=(None, 1), dtype=tf.float32, name='input_8')]\n    * False\n    * None\n  Keyword arguments: {}\n\nOption 2:\n  Positional arguments (3 total):\n    * [TensorSpec(shape=(None, 250, 250, 3), dtype=tf.float32, name='inputs/0'),\n TensorSpec(shape=(None, 250, 250, 3), dtype=tf.float32, name='inputs/1'),\n TensorSpec(shape=(None, 250, 250, 3), dtype=tf.float32, name='inputs/2'),\n TensorSpec(shape=(None, 250, 250, 3), dtype=tf.float32, name='inputs/3'),\n TensorSpec(shape=(None, 250, 250, 3), dtype=tf.float32, name='inputs/4'),\n TensorSpec(shape=(None, 250, 250, 3), dtype=tf.float32, name='inputs/5'),\n TensorSpec(shape=(None, 1), dtype=tf.float32, name='inputs/6'),\n TensorSpec(shape=(None, 1), dtype=tf.float32, name='inputs/7')]\n    * False\n    * None\n  Keyword arguments: {}\n\nOption 3:\n  Positional arguments (3 total):\n    * [TensorSpec(shape=(None, 250, 250, 3), dtype=tf.float32, name='inputs/0'),\n TensorSpec(shape=(None, 250, 250, 3), dtype=tf.float32, name='inputs/1'),\n TensorSpec(shape=(None, 250, 250, 3), dtype=tf.float32, name='inputs/2'),\n TensorSpec(shape=(None, 250, 250, 3), dtype=tf.float32, name='inputs/3'),\n TensorSpec(shape=(None, 250, 250, 3), dtype=tf.float32, name='inputs/4'),\n TensorSpec(shape=(None, 250, 250, 3), dtype=tf.float32, name='inputs/5'),\n TensorSpec(shape=(None, 1), dtype=tf.float32, name='inputs/6'),\n TensorSpec(shape=(None, 1), dtype=tf.float32, name='inputs/7')]\n    * True\n    * None\n  Keyword arguments: {}\n\nOption 4:\n  Positional arguments (3 total):\n    * [TensorSpec(shape=(None, 250, 250, 3), dtype=tf.float32, name='input_1'),\n TensorSpec(shape=(None, 250, 250, 3), dtype=tf.float32, name='input_2'),\n TensorSpec(shape=(None, 250, 250, 3), dtype=tf.float32, name='input_3'),\n TensorSpec(shape=(None, 250, 250, 3), dtype=tf.float32, name='input_4'),\n TensorSpec(shape=(None, 250, 250, 3), dtype=tf.float32, name='input_5'),\n TensorSpec(shape=(None, 250, 250, 3), dtype=tf.float32, name='input_6'),\n TensorSpec(shape=(None, 1), dtype=tf.float32, name='input_7'),\n TensorSpec(shape=(None, 1), dtype=tf.float32, name='input_8')]\n    * True\n    * None\n  Keyword arguments: {}"
     ]
    }
   ],
   "source": [
    "sa_analyser.inference()"
   ]
  }
 ],
 "metadata": {
  "kernelspec": {
   "display_name": "Python 3",
   "language": "python",
   "name": "python3"
  },
  "language_info": {
   "codemirror_mode": {
    "name": "ipython",
    "version": 3
   },
   "file_extension": ".py",
   "mimetype": "text/x-python",
   "name": "python",
   "nbconvert_exporter": "python",
   "pygments_lexer": "ipython3",
   "version": "3.9.16"
  },
  "orig_nbformat": 4
 },
 "nbformat": 4,
 "nbformat_minor": 2
}
