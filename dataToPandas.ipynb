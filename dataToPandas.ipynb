{
 "cells": [
  {
   "cell_type": "code",
   "execution_count": 2,
   "metadata": {},
   "outputs": [],
   "source": [
    "from matplotlib.pyplot import scatter, plot\n",
    "import numpy as np\n",
    "import tensorflow as tf\n",
    "import os \n",
    "import pandas as pd"
   ]
  },
  {
   "cell_type": "code",
   "execution_count": 4,
   "metadata": {},
   "outputs": [],
   "source": [
    "ROOT = \"/Users/shrayesraman/Desktop/temp/newdata/\""
   ]
  },
  {
   "cell_type": "code",
   "execution_count": 5,
   "metadata": {},
   "outputs": [],
   "source": [
    "files = os.listdir(ROOT)\n",
    "pfiles = [x for x in files if x[0] == 'p']\n",
    "pfiles = sorted(pfiles)\n",
    "cfiles = [x for x in files if x[0] == 'c']\n",
    "\n",
    "zfiles = []\n",
    "\n",
    "for p in pfiles:\n",
    "    for c in cfiles:\n",
    "        if p[-18:] == c[-18:]:\n",
    "            zfiles.append((p, c))"
   ]
  },
  {
   "cell_type": "code",
   "execution_count": 6,
   "metadata": {},
   "outputs": [
    {
     "data": {
      "text/plain": [
       "[('predictions_video_20210820_105702.mp4_.npy',\n",
       "  'centers_video_20210820_105702.mp4_.npy'),\n",
       " ('predictions_video_20210821_105702.mp4_.npy',\n",
       "  'centers_video_20210821_105702.mp4_.npy'),\n",
       " ('predictions_video_20210822_105701.mp4_.npy',\n",
       "  'centers_video_20210822_105701.mp4_.npy'),\n",
       " ('predictions_video_20210823_105700.mp4_.npy',\n",
       "  'centers_video_20210823_105700.mp4_.npy'),\n",
       " ('predictions_video_20210824_105659.mp4_.npy',\n",
       "  'centers_video_20210824_105659.mp4_.npy'),\n",
       " ('predictions_video_20210825_105658.mp4_.npy',\n",
       "  'centers_video_20210825_105658.mp4_.npy'),\n",
       " ('predictions_video_20210826_105657.mp4_.npy',\n",
       "  'centers_video_20210826_105657.mp4_.npy'),\n",
       " ('predictions_video_20210827_105657.mp4_.npy',\n",
       "  'centers_video_20210827_105657.mp4_.npy'),\n",
       " ('predictions_video_20210828_105656.mp4_.npy',\n",
       "  'centers_video_20210828_105656.mp4_.npy'),\n",
       " ('predictions_video_20210829_105655.mp4_.npy',\n",
       "  'centers_video_20210829_105655.mp4_.npy'),\n",
       " ('predictions_video_20210830_105654.mp4_.npy',\n",
       "  'centers_video_20210830_105654.mp4_.npy'),\n",
       " ('predictions_video_20210831_105653.mp4_.npy',\n",
       "  'centers_video_20210831_105653.mp4_.npy'),\n",
       " ('predictions_video_20210901_105653.mp4_.npy',\n",
       "  'centers_video_20210901_105653.mp4_.npy'),\n",
       " ('predictions_video_20210902_105652.mp4_.npy',\n",
       "  'centers_video_20210902_105652.mp4_.npy'),\n",
       " ('predictions_video_20210903_105651.mp4_.npy',\n",
       "  'centers_video_20210903_105651.mp4_.npy'),\n",
       " ('predictions_video_20210904_105650.mp4_.npy',\n",
       "  'centers_video_20210904_105650.mp4_.npy')]"
      ]
     },
     "execution_count": 6,
     "metadata": {},
     "output_type": "execute_result"
    }
   ],
   "source": [
    "zfiles"
   ]
  },
  {
   "cell_type": "code",
   "execution_count": 7,
   "metadata": {},
   "outputs": [
    {
     "name": "stdout",
     "output_type": "stream",
     "text": [
      "Metal device set to: Apple M1 Pro\n",
      "\n",
      "systemMemory: 16.00 GB\n",
      "maxCacheSize: 5.33 GB\n",
      "\n"
     ]
    },
    {
     "name": "stderr",
     "output_type": "stream",
     "text": [
      "2023-03-02 13:09:04.473520: I tensorflow/core/common_runtime/pluggable_device/pluggable_device_factory.cc:305] Could not identify NUMA node of platform GPU ID 0, defaulting to 0. Your kernel may not have been built with NUMA support.\n",
      "2023-03-02 13:09:04.473719: I tensorflow/core/common_runtime/pluggable_device/pluggable_device_factory.cc:271] Created TensorFlow device (/job:localhost/replica:0/task:0/device:GPU:0 with 0 MB memory) -> physical PluggableDevice (device: 0, name: METAL, pci bus id: <undefined>)\n"
     ]
    }
   ],
   "source": [
    "frames = []\n",
    "for i , f in enumerate(zfiles):\n",
    "    predicts = np.load(os.path.join(ROOT, f[0]), allow_pickle=True)\n",
    "    lpredicts = list(predicts)\n",
    "    l2predicts = [list(x) for x in lpredicts]\n",
    "    fpredicts = [[x, y.numpy()] for x, y in l2predicts]\n",
    "    x = [x for x, y in fpredicts]\n",
    "    y = [float(y) for x, y in fpredicts]\n",
    "    y_r = (np.array(y, dtype='f4'))\n",
    "    df_xy = pd.DataFrame({'time_stamp': x,'prediction': y_r})\n",
    "\n",
    "    predicts = np.load(os.path.join(ROOT, f[1]), allow_pickle=True)\n",
    "    lpredicts = list(predicts)\n",
    "    l2predicts = [list(x) for x in lpredicts]\n",
    "    ts = [x for x, _ in l2predicts]\n",
    "    xy = [x for _, x in l2predicts]\n",
    "    x = [float(x) for x, y in xy]\n",
    "    y = [float(y) for x, y in xy]\n",
    "    df_centers = pd.DataFrame({'time_stamp': ts, 'x': x, 'y': y})\n",
    "\n",
    "    result = pd.merge(df_xy, df_centers, how=\"right\", on='time_stamp')    \n",
    "\n",
    "    result['Day'] = i\n",
    "\n",
    "    frames.append(result)"
   ]
  },
  {
   "cell_type": "code",
   "execution_count": 8,
   "metadata": {},
   "outputs": [],
   "source": [
    "df = pd.concat(frames)\n",
    "\n"
   ]
  },
  {
   "cell_type": "code",
   "execution_count": 33,
   "metadata": {},
   "outputs": [
    {
     "data": {
      "text/plain": [
       "array([        nan, -0.262628  , -0.23944281, ...,  0.32490495,\n",
       "        0.23730455,  0.49083528], dtype=float32)"
      ]
     },
     "execution_count": 33,
     "metadata": {},
     "output_type": "execute_result"
    }
   ],
   "source": [
    "df[\"prediction\"].unique()"
   ]
  },
  {
   "cell_type": "code",
   "execution_count": 9,
   "metadata": {},
   "outputs": [],
   "source": [
    "result = pd.merge(df_xy, df_centers, how=\"right\", on='time_stamp')\n"
   ]
  },
  {
   "cell_type": "code",
   "execution_count": 10,
   "metadata": {},
   "outputs": [],
   "source": [
    "df[\"x_diff\"] = df['x'].diff()"
   ]
  },
  {
   "cell_type": "code",
   "execution_count": 11,
   "metadata": {},
   "outputs": [],
   "source": [
    "df[\"y_diff\"] = df['y'].diff()"
   ]
  },
  {
   "cell_type": "code",
   "execution_count": 12,
   "metadata": {},
   "outputs": [],
   "source": [
    "df.to_hdf(\"20210819B_WT.h5\", key=\"data\")"
   ]
  },
  {
   "cell_type": "code",
   "execution_count": 38,
   "metadata": {},
   "outputs": [],
   "source": [
    "import math"
   ]
  },
  {
   "cell_type": "code",
   "execution_count": 39,
   "metadata": {},
   "outputs": [],
   "source": [
    "def distance(x,y):\n",
    "    return math.sqrt(x**2 + y**2)"
   ]
  },
  {
   "cell_type": "code",
   "execution_count": 40,
   "metadata": {},
   "outputs": [
    {
     "data": {
      "text/html": [
       "<div>\n",
       "<style scoped>\n",
       "    .dataframe tbody tr th:only-of-type {\n",
       "        vertical-align: middle;\n",
       "    }\n",
       "\n",
       "    .dataframe tbody tr th {\n",
       "        vertical-align: top;\n",
       "    }\n",
       "\n",
       "    .dataframe thead th {\n",
       "        text-align: right;\n",
       "    }\n",
       "</style>\n",
       "<table border=\"1\" class=\"dataframe\">\n",
       "  <thead>\n",
       "    <tr style=\"text-align: right;\">\n",
       "      <th></th>\n",
       "      <th>time_stamp</th>\n",
       "      <th>prediction</th>\n",
       "      <th>x</th>\n",
       "      <th>y</th>\n",
       "    </tr>\n",
       "  </thead>\n",
       "  <tbody>\n",
       "    <tr>\n",
       "      <th>0</th>\n",
       "      <td>210</td>\n",
       "      <td>NaN</td>\n",
       "      <td>550.0</td>\n",
       "      <td>449.5</td>\n",
       "    </tr>\n",
       "    <tr>\n",
       "      <th>1</th>\n",
       "      <td>220</td>\n",
       "      <td>NaN</td>\n",
       "      <td>545.0</td>\n",
       "      <td>415.5</td>\n",
       "    </tr>\n",
       "    <tr>\n",
       "      <th>2</th>\n",
       "      <td>230</td>\n",
       "      <td>NaN</td>\n",
       "      <td>529.0</td>\n",
       "      <td>609.5</td>\n",
       "    </tr>\n",
       "    <tr>\n",
       "      <th>3</th>\n",
       "      <td>250</td>\n",
       "      <td>NaN</td>\n",
       "      <td>539.0</td>\n",
       "      <td>623.5</td>\n",
       "    </tr>\n",
       "    <tr>\n",
       "      <th>4</th>\n",
       "      <td>260</td>\n",
       "      <td>NaN</td>\n",
       "      <td>527.5</td>\n",
       "      <td>626.0</td>\n",
       "    </tr>\n",
       "    <tr>\n",
       "      <th>...</th>\n",
       "      <td>...</td>\n",
       "      <td>...</td>\n",
       "      <td>...</td>\n",
       "      <td>...</td>\n",
       "    </tr>\n",
       "    <tr>\n",
       "      <th>42041</th>\n",
       "      <td>765220</td>\n",
       "      <td>NaN</td>\n",
       "      <td>555.5</td>\n",
       "      <td>427.0</td>\n",
       "    </tr>\n",
       "    <tr>\n",
       "      <th>42042</th>\n",
       "      <td>765310</td>\n",
       "      <td>NaN</td>\n",
       "      <td>224.0</td>\n",
       "      <td>640.5</td>\n",
       "    </tr>\n",
       "    <tr>\n",
       "      <th>42043</th>\n",
       "      <td>765330</td>\n",
       "      <td>NaN</td>\n",
       "      <td>305.0</td>\n",
       "      <td>688.0</td>\n",
       "    </tr>\n",
       "    <tr>\n",
       "      <th>42044</th>\n",
       "      <td>765340</td>\n",
       "      <td>NaN</td>\n",
       "      <td>285.0</td>\n",
       "      <td>672.0</td>\n",
       "    </tr>\n",
       "    <tr>\n",
       "      <th>42045</th>\n",
       "      <td>765350</td>\n",
       "      <td>NaN</td>\n",
       "      <td>356.5</td>\n",
       "      <td>463.5</td>\n",
       "    </tr>\n",
       "  </tbody>\n",
       "</table>\n",
       "<p>42046 rows × 4 columns</p>\n",
       "</div>"
      ],
      "text/plain": [
       "       time_stamp  prediction      x      y\n",
       "0             210         NaN  550.0  449.5\n",
       "1             220         NaN  545.0  415.5\n",
       "2             230         NaN  529.0  609.5\n",
       "3             250         NaN  539.0  623.5\n",
       "4             260         NaN  527.5  626.0\n",
       "...           ...         ...    ...    ...\n",
       "42041      765220         NaN  555.5  427.0\n",
       "42042      765310         NaN  224.0  640.5\n",
       "42043      765330         NaN  305.0  688.0\n",
       "42044      765340         NaN  285.0  672.0\n",
       "42045      765350         NaN  356.5  463.5\n",
       "\n",
       "[42046 rows x 4 columns]"
      ]
     },
     "execution_count": 40,
     "metadata": {},
     "output_type": "execute_result"
    }
   ],
   "source": [
    "result"
   ]
  },
  {
   "cell_type": "code",
   "execution_count": 41,
   "metadata": {},
   "outputs": [],
   "source": [
    "df[\"Distance\"] = df.apply(lambda y: distance(y.x_diff, y.y_diff), axis=1)"
   ]
  },
  {
   "cell_type": "code",
   "execution_count": 42,
   "metadata": {},
   "outputs": [
    {
     "data": {
      "text/html": [
       "<div>\n",
       "<style scoped>\n",
       "    .dataframe tbody tr th:only-of-type {\n",
       "        vertical-align: middle;\n",
       "    }\n",
       "\n",
       "    .dataframe tbody tr th {\n",
       "        vertical-align: top;\n",
       "    }\n",
       "\n",
       "    .dataframe thead th {\n",
       "        text-align: right;\n",
       "    }\n",
       "</style>\n",
       "<table border=\"1\" class=\"dataframe\">\n",
       "  <thead>\n",
       "    <tr style=\"text-align: right;\">\n",
       "      <th></th>\n",
       "      <th>time_stamp</th>\n",
       "      <th>prediction</th>\n",
       "      <th>x</th>\n",
       "      <th>y</th>\n",
       "      <th>Day</th>\n",
       "      <th>x_diff</th>\n",
       "      <th>y_diff</th>\n",
       "      <th>Distance</th>\n",
       "    </tr>\n",
       "  </thead>\n",
       "  <tbody>\n",
       "    <tr>\n",
       "      <th>0</th>\n",
       "      <td>130</td>\n",
       "      <td>NaN</td>\n",
       "      <td>446.5</td>\n",
       "      <td>642.0</td>\n",
       "      <td>0</td>\n",
       "      <td>NaN</td>\n",
       "      <td>NaN</td>\n",
       "      <td>NaN</td>\n",
       "    </tr>\n",
       "    <tr>\n",
       "      <th>1</th>\n",
       "      <td>140</td>\n",
       "      <td>NaN</td>\n",
       "      <td>447.5</td>\n",
       "      <td>630.0</td>\n",
       "      <td>0</td>\n",
       "      <td>1.0</td>\n",
       "      <td>-12.0</td>\n",
       "      <td>12.041595</td>\n",
       "    </tr>\n",
       "    <tr>\n",
       "      <th>2</th>\n",
       "      <td>150</td>\n",
       "      <td>NaN</td>\n",
       "      <td>449.5</td>\n",
       "      <td>641.0</td>\n",
       "      <td>0</td>\n",
       "      <td>2.0</td>\n",
       "      <td>11.0</td>\n",
       "      <td>11.180340</td>\n",
       "    </tr>\n",
       "    <tr>\n",
       "      <th>3</th>\n",
       "      <td>160</td>\n",
       "      <td>NaN</td>\n",
       "      <td>446.5</td>\n",
       "      <td>652.5</td>\n",
       "      <td>0</td>\n",
       "      <td>-3.0</td>\n",
       "      <td>11.5</td>\n",
       "      <td>11.884864</td>\n",
       "    </tr>\n",
       "    <tr>\n",
       "      <th>4</th>\n",
       "      <td>170</td>\n",
       "      <td>NaN</td>\n",
       "      <td>444.0</td>\n",
       "      <td>656.5</td>\n",
       "      <td>0</td>\n",
       "      <td>-2.5</td>\n",
       "      <td>4.0</td>\n",
       "      <td>4.716991</td>\n",
       "    </tr>\n",
       "    <tr>\n",
       "      <th>...</th>\n",
       "      <td>...</td>\n",
       "      <td>...</td>\n",
       "      <td>...</td>\n",
       "      <td>...</td>\n",
       "      <td>...</td>\n",
       "      <td>...</td>\n",
       "      <td>...</td>\n",
       "      <td>...</td>\n",
       "    </tr>\n",
       "    <tr>\n",
       "      <th>42041</th>\n",
       "      <td>765220</td>\n",
       "      <td>NaN</td>\n",
       "      <td>555.5</td>\n",
       "      <td>427.0</td>\n",
       "      <td>73</td>\n",
       "      <td>18.5</td>\n",
       "      <td>-13.0</td>\n",
       "      <td>22.610838</td>\n",
       "    </tr>\n",
       "    <tr>\n",
       "      <th>42042</th>\n",
       "      <td>765310</td>\n",
       "      <td>NaN</td>\n",
       "      <td>224.0</td>\n",
       "      <td>640.5</td>\n",
       "      <td>73</td>\n",
       "      <td>-331.5</td>\n",
       "      <td>213.5</td>\n",
       "      <td>394.302549</td>\n",
       "    </tr>\n",
       "    <tr>\n",
       "      <th>42043</th>\n",
       "      <td>765330</td>\n",
       "      <td>NaN</td>\n",
       "      <td>305.0</td>\n",
       "      <td>688.0</td>\n",
       "      <td>73</td>\n",
       "      <td>81.0</td>\n",
       "      <td>47.5</td>\n",
       "      <td>93.900213</td>\n",
       "    </tr>\n",
       "    <tr>\n",
       "      <th>42044</th>\n",
       "      <td>765340</td>\n",
       "      <td>NaN</td>\n",
       "      <td>285.0</td>\n",
       "      <td>672.0</td>\n",
       "      <td>73</td>\n",
       "      <td>-20.0</td>\n",
       "      <td>-16.0</td>\n",
       "      <td>25.612497</td>\n",
       "    </tr>\n",
       "    <tr>\n",
       "      <th>42045</th>\n",
       "      <td>765350</td>\n",
       "      <td>NaN</td>\n",
       "      <td>356.5</td>\n",
       "      <td>463.5</td>\n",
       "      <td>73</td>\n",
       "      <td>71.5</td>\n",
       "      <td>-208.5</td>\n",
       "      <td>220.418919</td>\n",
       "    </tr>\n",
       "  </tbody>\n",
       "</table>\n",
       "<p>3823637 rows × 8 columns</p>\n",
       "</div>"
      ],
      "text/plain": [
       "       time_stamp  prediction      x      y  Day  x_diff  y_diff    Distance\n",
       "0             130         NaN  446.5  642.0    0     NaN     NaN         NaN\n",
       "1             140         NaN  447.5  630.0    0     1.0   -12.0   12.041595\n",
       "2             150         NaN  449.5  641.0    0     2.0    11.0   11.180340\n",
       "3             160         NaN  446.5  652.5    0    -3.0    11.5   11.884864\n",
       "4             170         NaN  444.0  656.5    0    -2.5     4.0    4.716991\n",
       "...           ...         ...    ...    ...  ...     ...     ...         ...\n",
       "42041      765220         NaN  555.5  427.0   73    18.5   -13.0   22.610838\n",
       "42042      765310         NaN  224.0  640.5   73  -331.5   213.5  394.302549\n",
       "42043      765330         NaN  305.0  688.0   73    81.0    47.5   93.900213\n",
       "42044      765340         NaN  285.0  672.0   73   -20.0   -16.0   25.612497\n",
       "42045      765350         NaN  356.5  463.5   73    71.5  -208.5  220.418919\n",
       "\n",
       "[3823637 rows x 8 columns]"
      ]
     },
     "execution_count": 42,
     "metadata": {},
     "output_type": "execute_result"
    }
   ],
   "source": [
    "df"
   ]
  },
  {
   "cell_type": "code",
   "execution_count": 43,
   "metadata": {},
   "outputs": [
    {
     "data": {
      "text/plain": [
       "[<matplotlib.lines.Line2D at 0x283708460>]"
      ]
     },
     "execution_count": 43,
     "metadata": {},
     "output_type": "execute_result"
    },
    {
     "data": {
      "image/png": "[encoded data removed]",
      "text/plain": [
       "<Figure size 432x288 with 1 Axes>"
      ]
     },
     "metadata": {
      "needs_background": "light"
     },
     "output_type": "display_data"
    }
   ],
   "source": [
    "sums = []\n",
    "samples = []\n",
    "for i,f in enumerate(zfiles):\n",
    "    tdf = df.loc[df[\"Day\"] == i]\n",
    "    sums.append(tdf['Distance'].sum())\n",
    "    samples.append(sum(df[\"Day\"] == i))\n",
    "\n",
    "scatter(range(len(sums)),sums)\n",
    "plot(sums)\n",
    "scatter(range(len(samples)),samples)\n",
    "plot(samples)"
   ]
  },
  {
   "cell_type": "code",
   "execution_count": 44,
   "metadata": {},
   "outputs": [
    {
     "data": {
      "text/plain": [
       "[<matplotlib.lines.Line2D at 0x283aadb50>]"
      ]
     },
     "execution_count": 44,
     "metadata": {},
     "output_type": "execute_result"
    },
    {
     "data": {
      "image/png": "[encoded data removed]",
      "text/plain": [
       "<Figure size 432x288 with 1 Axes>"
      ]
     },
     "metadata": {
      "needs_background": "light"
     },
     "output_type": "display_data"
    }
   ],
   "source": [
    "scatter(range(len(samples)),samples)\n",
    "plot(samples)"
   ]
  },
  {
   "cell_type": "code",
   "execution_count": 45,
   "metadata": {},
   "outputs": [
    {
     "name": "stdout",
     "output_type": "stream",
     "text": [
      "[877629.1108624374, 403099.5071484632, 474523.8938326265, 519346.9338142258, 612396.0294509908, 899197.4846744518, 839021.8962753721, 596871.6644974648, 589848.6014373827, 590048.6633119873, 880726.9883178035, 790505.9560518329, 776297.408356527, 814210.8140153716, 920756.597666457, 982688.6704965646, 1101265.8958502351, 1163083.8348216792, 1212137.2736043676, 1487341.1696156645, 1078583.2425308446, 854609.0252777055, 1053848.141547668, 789939.9853851019, 730461.3005559494, 740553.4046905492, 771913.7815953455, 613582.6428249201, 701439.6152244132, 604631.4126503969, 616373.1430523403, 555214.2438410127, 634816.3493444416, 636372.144305361, 509632.0234915476, 867713.7901466087, 709590.874957383, 743759.5722731373, 787136.6638159795, 628386.2914228538, 737294.9270928276, 679977.4050114426, 860391.8731250284, 896257.505472096, 853405.5408285237, 9566.426820032191, 703184.5963792253, 92227.22183188895, 805463.9536305649, 538679.8467083414, 542082.9405943308, 659756.4163011326, 544884.3344763914, 732961.1432215854, 622659.1433520933, 499174.14523447823, 497740.5989025084, 635730.9296457248, 693171.8859892726, 616483.2759462659, 627373.6261138453, 605720.7419780886, 634714.5592561117, 628807.5116997645, 581383.2920703348, 575323.3234506065, 617834.204564289, 612613.9452647073, 519330.18952461646, 557644.6622765756, 574522.3794750507, 600455.8904250658, 631318.8104101699, 757734.2722532781]\n"
     ]
    }
   ],
   "source": [
    "print(sums)"
   ]
  },
  {
   "cell_type": "code",
   "execution_count": 46,
   "metadata": {},
   "outputs": [],
   "source": [
    "ft = np.fft.fft(sums)"
   ]
  },
  {
   "cell_type": "code",
   "execution_count": 47,
   "metadata": {},
   "outputs": [
    {
     "name": "stderr",
     "output_type": "stream",
     "text": [
      "/Users/shrayesraman/miniforge3/lib/python3.9/site-packages/matplotlib/cbook/__init__.py:1298: ComplexWarning: Casting complex values to real discards the imaginary part\n",
      "  return np.asarray(x, float)\n"
     ]
    },
    {
     "data": {
      "text/plain": [
       "[<matplotlib.lines.Line2D at 0x2816bf430>]"
      ]
     },
     "execution_count": 47,
     "metadata": {},
     "output_type": "execute_result"
    },
    {
     "data": {
      "image/png": "[encoded data removed]",
      "text/plain": [
       "<Figure size 432x288 with 1 Axes>"
      ]
     },
     "metadata": {
      "needs_background": "light"
     },
     "output_type": "display_data"
    }
   ],
   "source": [
    "plot(ft)\n"
   ]
  }
 ],
 "metadata": {
  "kernelspec": {
   "display_name": "Python 3.9.7 ('base')",
   "language": "python",
   "name": "python3"
  },
  "language_info": {
   "codemirror_mode": {
    "name": "ipython",
    "version": 3
   },
   "file_extension": ".py",
   "mimetype": "text/x-python",
   "name": "python",
   "nbconvert_exporter": "python",
   "pygments_lexer": "ipython3",
   "version": "3.9.7"
  },
  "orig_nbformat": 4,
  "vscode": {
   "interpreter": {
    "hash": "c7256b76c9766acf2668ba3d28cc54ea7577494ceba42d0409293b7cb7251345"
   }
  }
 },
 "nbformat": 4,
 "nbformat_minor": 2
}
